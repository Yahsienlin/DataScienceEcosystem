{
 "cells": [
  {
   "cell_type": "markdown",
   "id": "d9127119-3520-49da-941d-df8abc411c82",
   "metadata": {},
   "source": [
    "#Data Science Tools and Ecosystem"
   ]
  },
  {
   "cell_type": "markdown",
   "id": "df992260-0af5-4aad-a4da-2ebe14fe4423",
   "metadata": {},
   "source": [
    "In this notebook, Data Science Tools and Ecosystem are summarized."
   ]
  },
  {
   "cell_type": "markdown",
   "id": "118226a2-8033-473e-9ca3-4d4d58478406",
   "metadata": {},
   "source": [
    "Some of the popular languages that Data Scientists use are:\n",
    "1. python\n",
    "2. Java\n",
    "3. Julia"
   ]
  },
  {
   "cell_type": "markdown",
   "id": "11801256-f818-40eb-add6-503ac3bdc44c",
   "metadata": {},
   "source": [
    "Some of the commonly used libraries used by Data Scientists include:\n",
    "1. NumPy\n",
    "2. Pandas\n",
    "3. Seaborn"
   ]
  },
  {
   "cell_type": "markdown",
   "id": "e2aac287-3bcd-42ea-b8fe-ee98d0394585",
   "metadata": {},
   "source": [
    "| Data Science Tools          |\n",
    "|-----------------------------|\n",
    "| Jupyter Notebook            |\n",
    "| RStudio                     |\n",
    "| Apache Zeppelin             |\n"
   ]
  },
  {
   "cell_type": "markdown",
   "id": "e5cb4eb9-d46b-4829-942a-5260db25fb14",
   "metadata": {},
   "source": [
    "### Below are a few examples of evaluating arithmetic expressions in Python\n",
    "1. addition: \"2+5\"\n",
    "2. subtruction:\"10-9\"\n",
    "3. multiplication:\"5*5\""
   ]
  },
  {
   "cell_type": "code",
   "execution_count": 7,
   "id": "24d24c12-f65b-4f2d-9e12-0d47f35001df",
   "metadata": {},
   "outputs": [
    {
     "data": {
      "text/plain": [
       "17"
      ]
     },
     "execution_count": 7,
     "metadata": {},
     "output_type": "execute_result"
    }
   ],
   "source": [
    "#This a simple arithmetic expression to mutiply then add integers\n",
    "result=(3*4)+5\n",
    "result"
   ]
  },
  {
   "cell_type": "code",
   "execution_count": 8,
   "id": "44d5521e-bc9f-4f15-b225-9133710bef14",
   "metadata": {},
   "outputs": [
    {
     "data": {
      "text/plain": [
       "3.3333333333333335"
      ]
     },
     "execution_count": 8,
     "metadata": {},
     "output_type": "execute_result"
    }
   ],
   "source": [
    "# This will convert 200 minutes to hours by diving by 60\n",
    "minutes=200\n",
    "hour= minutes / 60\n",
    "hour"
   ]
  },
  {
   "cell_type": "markdown",
   "id": "97c60103-3e47-4755-b43b-06054b4703bf",
   "metadata": {},
   "source": [
    "**Objectives**\n",
    "\n",
    "### List popular languages for Data Science\n",
    "- Demonstrate arithmetic expression examples in Python\n",
    "- Convert units (e.g., minutes to hours) using Python code\n",
    "- Identify key Data Science tools and environments\n",
    "- Create and format tables in markdown cells"
   ]
  },
  {
   "cell_type": "markdown",
   "id": "e29e98b3-fa50-4347-bd6f-81baa9547c32",
   "metadata": {},
   "source": [
    "## Author \n",
    "Ya Hsien Lin Huang"
   ]
  },
  {
   "cell_type": "code",
   "execution_count": null,
   "id": "fa45f99b-62c1-4a8b-be25-2833932bc25d",
   "metadata": {},
   "outputs": [],
   "source": []
  }
 ],
 "metadata": {
  "kernelspec": {
   "display_name": "Python 3 (ipykernel)",
   "language": "python",
   "name": "python3"
  },
  "language_info": {
   "codemirror_mode": {
    "name": "ipython",
    "version": 3
   },
   "file_extension": ".py",
   "mimetype": "text/x-python",
   "name": "python",
   "nbconvert_exporter": "python",
   "pygments_lexer": "ipython3",
   "version": "3.11.7"
  }
 },
 "nbformat": 4,
 "nbformat_minor": 5
}
